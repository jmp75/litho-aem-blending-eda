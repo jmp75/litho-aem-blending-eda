{
 "cells": [
  {
   "cell_type": "markdown",
   "metadata": {},
   "source": [
    "## Canberra lithologies case study\n",
    "\n",
    "Motivated by learning that the ACT is interested in managed aquifer recharge for watering some green spaces.\n",
    "\n",
    "This notebook does not look at AEM data although sitting under a repository suggesting so. \n",
    "\n",
    "## Downloading the data \n",
    "\n",
    "Not throughly documented.\n",
    "\n",
    "Data was downloaded from the usual places, NGIS and Elvis. NGIS when using the Murrumbidgee catchment was actually not including the bores in the ACT, so needed to download the ACT ones also, and this present notebook will do the merging of the lithology logs. Spatial locations were merged manually, and subsetted, in QGIS\n",
    "\n",
    "Some of the data output by this present notebook fed into a [lithology log viewer](https://github.com/csiro-hydrogeology/lithology-viewer) that can be run as a dashboard on Binder.\n"
   ]
  },
  {
   "cell_type": "code",
   "execution_count": null,
   "metadata": {
    "ExecuteTime": {
     "end_time": "2018-02-27T01:54:38.357642Z",
     "start_time": "2018-02-27T01:54:36.460827Z"
    },
    "init_cell": true
   },
   "outputs": [],
   "source": [
    "import os\n",
    "import sys\n",
    "import pandas as pd\n",
    "import numpy as np\n",
    "import matplotlib.pyplot as plt\n",
    "import rasterio\n",
    "from rasterio.plot import show\n",
    "import geopandas as gpd\n"
   ]
  },
  {
   "cell_type": "code",
   "execution_count": null,
   "metadata": {},
   "outputs": [],
   "source": [
    "# Only set to True for co-dev of ela from this use case:\n",
    "ela_from_source = False\n",
    "ela_from_source = True"
   ]
  },
  {
   "cell_type": "code",
   "execution_count": null,
   "metadata": {},
   "outputs": [],
   "source": [
    "if ela_from_source:\n",
    "    if ('ELA_SRC' in os.environ):\n",
    "        root_src_dir = os.environ['ELA_SRC']\n",
    "    elif sys.platform == 'win32':\n",
    "        root_src_dir = r'C:\\src\\github_jm\\pyela'\n",
    "    else:\n",
    "        username = os.environ['USER']\n",
    "        root_src_dir = os.path.join('/home', username, 'src/ela/pyela')\n",
    "    pkg_src_dir = root_src_dir\n",
    "    sys.path.insert(0, pkg_src_dir)\n",
    "\n",
    "from ela.textproc import *\n",
    "from ela.utils import *\n",
    "from ela.classification import *\n",
    "from ela.visual import *\n",
    "from ela.spatial import SliceOperation"
   ]
  },
  {
   "cell_type": "markdown",
   "metadata": {},
   "source": [
    "## Importing data\n",
    "\n",
    "There are two main sets of information we need: the borehole lithology logs, and the spatial information in the surface elevation (DEM) and geolocation of a subset of bores around Bungendore. "
   ]
  },
  {
   "cell_type": "code",
   "execution_count": null,
   "metadata": {},
   "outputs": [],
   "source": [
    "data_path = None"
   ]
  },
  {
   "cell_type": "markdown",
   "metadata": {},
   "source": [
    "You probably want to explicitly set `data_path` to the location where you put the folder(s) e.g:"
   ]
  },
  {
   "cell_type": "code",
   "execution_count": null,
   "metadata": {},
   "outputs": [],
   "source": [
    "#data_path = '/home/myusername/data' # On Linux, if you now have the folder /home/myusername/data/Bungendore\n",
    "#data_path = r'C:\\data\\Lithology'  # windows, if you have C:\\data\\Lithology\\Bungendore"
   ]
  },
  {
   "cell_type": "markdown",
   "metadata": {},
   "source": [
    "Otherwise a fallback for the pyela developer(s)"
   ]
  },
  {
   "cell_type": "code",
   "execution_count": null,
   "metadata": {},
   "outputs": [],
   "source": [
    "if data_path is None:\n",
    "    if ('ELA_DATA' in os.environ):\n",
    "        data_path = os.environ['ELA_DATA']\n",
    "    elif sys.platform == 'win32':\n",
    "        data_path = r'C:\\data\\Lithology'\n",
    "    else:\n",
    "        username = os.environ['USER']\n",
    "        data_path = os.path.join('/home', username, 'data')"
   ]
  },
  {
   "cell_type": "code",
   "execution_count": null,
   "metadata": {},
   "outputs": [],
   "source": [
    "data_path"
   ]
  },
  {
   "cell_type": "code",
   "execution_count": null,
   "metadata": {},
   "outputs": [],
   "source": [
    "cbr_datadir = os.path.join(data_path, 'Brisbane')\n",
    "cbr_datadir_out = os.path.join(cbr_datadir, 'out')\n",
    "ngis_datadir = os.path.join(data_path, 'NGIS')\n",
    "act_shp_datadir = os.path.join(ngis_datadir, 'shp_ACT')\n",
    "bidgee_shp_datadir = os.path.join(ngis_datadir, 'shp_brisbane_river')"
   ]
  },
  {
   "cell_type": "code",
   "execution_count": null,
   "metadata": {},
   "outputs": [],
   "source": [
    "import pickle\n",
    "\n",
    "interp_litho_filename = os.path.join(cbr_datadir_out,'3d_primary_litho.pkl')\n",
    "with open(interp_litho_filename, 'rb') as handle:\n",
    "    lithology_3d_array = pickle.load(handle)\n",
    "\n",
    "    \n",
    "fp = os.path.join(cbr_datadir_out, 'dem_array_data.pkl')\n",
    "with open(fp, 'rb') as handle:\n",
    "    dem_array_data = pickle.load(handle)\n",
    "\n",
    "    \n",
    "classified_logs_filename = os.path.join(cbr_datadir_out, 'classified_logs.pkl')\n",
    "with open(classified_logs_filename, 'rb') as handle:\n",
    "    df = pickle.load(handle)\n",
    "\n"
   ]
  },
  {
   "cell_type": "code",
   "execution_count": null,
   "metadata": {},
   "outputs": [],
   "source": [
    "# more classes for display of raw logs\n",
    "lithologies = ['shale', 'clay','granite','soil','sand', 'porphyry','siltstone', 'dacite', 'rhyodacite', 'gravel', 'limestone', 'sandstone', 'slate', 'mudstone', 'rock', 'ignimbrite', 'tuff']\n",
    "# Prep for visualisation\n",
    "lithology_color_names = [\n",
    "    'lightslategrey', # Shale\n",
    "    'olive', # clay\n",
    "    'dimgray', # granite\n",
    "    'chocolate',  # soil\n",
    "    'gold', # sand\n",
    "    'tomato', # porphyry\n",
    "    'teal', # siltstone\n",
    "    'darkgrey', # dacite\n",
    "    'whitesmoke', # rhyodacite\n",
    "    'powderblue', # gravel \n",
    "    'yellow', #limestone\n",
    "    'papayawhip', #sandstone\n",
    "    'dimgray', #slate\n",
    "    'darkred', #mudstone\n",
    "    'grey', #rock\n",
    "    'khaki', #ignimbrite\n",
    "    'lemonchiffon' #tuff\n",
    "]"
   ]
  },
  {
   "cell_type": "code",
   "execution_count": null,
   "metadata": {},
   "outputs": [],
   "source": [
    "# TODO: how could this information be serialised/reloaded between notebooks?\n",
    "# (442.0, 824.0)\n",
    "ahd_min=442\n",
    "ahd_max=824\n",
    "\n",
    "z_ahd_coords = np.arange(ahd_min,ahd_max,1)\n",
    "dim_x,dim_y,dim_z = lithology_3d_array.shape\n",
    "dims = (dim_x,dim_y,dim_z)"
   ]
  },
  {
   "cell_type": "code",
   "execution_count": null,
   "metadata": {},
   "outputs": [],
   "source": [
    "z_index_for_ahd = z_index_for_ahd_functor(b=-ahd_min)"
   ]
  },
  {
   "cell_type": "markdown",
   "metadata": {},
   "source": [
    "## 2D visualisations"
   ]
  },
  {
   "cell_type": "code",
   "execution_count": null,
   "metadata": {},
   "outputs": [],
   "source": [
    "lithology_cmap = discrete_classes_colormap(lithology_color_names) # Later for exporting to RGB geotiffs??\n",
    "litho_legend_display_info = [(lithology_cmap[i], lithologies[i], lithology_color_names[i]) for i in range(len(lithologies))]"
   ]
  },
  {
   "cell_type": "code",
   "execution_count": null,
   "metadata": {},
   "outputs": [],
   "source": [
    "litho_legend = legend_fig(litho_legend_display_info)"
   ]
  },
  {
   "cell_type": "code",
   "execution_count": null,
   "metadata": {},
   "outputs": [],
   "source": [
    "cms = cartopy_color_settings(lithology_color_names)"
   ]
  },
  {
   "cell_type": "code",
   "execution_count": null,
   "metadata": {},
   "outputs": [],
   "source": [
    "z = z_index_for_ahd(ahd_min + 20)"
   ]
  },
  {
   "cell_type": "code",
   "execution_count": null,
   "metadata": {},
   "outputs": [],
   "source": [
    "fig, ax = plt.subplots(figsize=(12, 12))\n",
    "\n",
    "imgplot = plt.imshow(to_carto(lithology_3d_array[:, :, z]), cmap=cms['cmap'])\n",
    "title = plt.title('Primary litho at +YYYmAHD')"
   ]
  },
  {
   "cell_type": "markdown",
   "metadata": {},
   "source": [
    "## 3D visualisation"
   ]
  },
  {
   "cell_type": "code",
   "execution_count": null,
   "metadata": {},
   "outputs": [],
   "source": [
    "from ela.visual3d import *"
   ]
  },
  {
   "cell_type": "code",
   "execution_count": null,
   "metadata": {},
   "outputs": [],
   "source": [
    "xx, yy = dem_array_data['mesh_xy']"
   ]
  },
  {
   "cell_type": "code",
   "execution_count": null,
   "metadata": {},
   "outputs": [],
   "source": [
    "from mayavi import mlab"
   ]
  },
  {
   "cell_type": "code",
   "execution_count": null,
   "metadata": {},
   "outputs": [],
   "source": [
    "vis_litho = LithologiesClassesVisual3d(lithologies, lithology_color_names, 'black')"
   ]
  },
  {
   "cell_type": "code",
   "execution_count": null,
   "metadata": {},
   "outputs": [],
   "source": [
    "# TODO: problematic with this data - investigate\n",
    "# vis_litho.render_classes_planar(lithology_3d_array, 'Primary lithology')"
   ]
  },
  {
   "cell_type": "code",
   "execution_count": null,
   "metadata": {},
   "outputs": [],
   "source": [
    "# vis_litho.render_class(lithology_3d_array, 0)"
   ]
  },
  {
   "cell_type": "markdown",
   "metadata": {},
   "source": [
    "ela has facilities to visualise overlaid information: DEM, classified bore logs, and volumes of interpolated lithologies. This is important to convey .\n",
    "\n",
    "First a bit of data filling for visual purposes, as NaN lithology class codes may cause issues."
   ]
  },
  {
   "cell_type": "code",
   "execution_count": null,
   "metadata": {},
   "outputs": [],
   "source": [
    "df_infilled = df.fillna({PRIMARY_LITHO_NUM_COL: -1.0})\n",
    "df_infilled = df_infilled[(df_infilled[DEPTH_TO_AHD_COL] > (ahd_min-20))]"
   ]
  },
  {
   "cell_type": "code",
   "execution_count": null,
   "metadata": {},
   "outputs": [],
   "source": [
    "# A factor to apply to Z coordinates, otherwise things would be squashed visually along the heights.\n",
    "# Would prefer a visual only scaling factor, but could not find a way to do so. \n",
    "Z_SCALING = 20.0"
   ]
  },
  {
   "cell_type": "code",
   "execution_count": null,
   "metadata": {},
   "outputs": [],
   "source": [
    "z_coords = np.arange(ahd_min,ahd_max,1)"
   ]
  },
  {
   "cell_type": "code",
   "execution_count": null,
   "metadata": {},
   "outputs": [],
   "source": [
    "overlay_vis_litho = LithologiesClassesOverlayVisual3d(lithologies, lithology_color_names, 'black', dem_array_data, z_coords, Z_SCALING, df_infilled, PRIMARY_LITHO_NUM_COL)"
   ]
  },
  {
   "cell_type": "code",
   "execution_count": null,
   "metadata": {},
   "outputs": [],
   "source": [
    "def view_class(value):\n",
    "    f = overlay_vis_litho.view_overlay(value, lithology_3d_array)\n",
    "    return f"
   ]
  },
  {
   "cell_type": "code",
   "execution_count": null,
   "metadata": {},
   "outputs": [],
   "source": [
    "f = view_class(0.0)"
   ]
  },
  {
   "cell_type": "code",
   "execution_count": null,
   "metadata": {},
   "outputs": [],
   "source": [
    "f = view_class(7.0)"
   ]
  },
  {
   "cell_type": "code",
   "execution_count": null,
   "metadata": {},
   "outputs": [],
   "source": [
    "f = view_class(1.0)"
   ]
  },
  {
   "cell_type": "code",
   "execution_count": null,
   "metadata": {},
   "outputs": [],
   "source": [
    "f = view_class(5.0)"
   ]
  },
  {
   "cell_type": "code",
   "execution_count": null,
   "metadata": {},
   "outputs": [],
   "source": []
  },
  {
   "cell_type": "code",
   "execution_count": null,
   "metadata": {
    "ExecuteTime": {
     "end_time": "2018-02-06T00:53:52.073116Z",
     "start_time": "2018-02-06T00:53:50.984843Z"
    }
   },
   "outputs": [],
   "source": [
    "vis_litho = LithologiesClassesVisual3d(lithologies, lithology_color_names, 'black')"
   ]
  },
  {
   "cell_type": "code",
   "execution_count": null,
   "metadata": {
    "ExecuteTime": {
     "end_time": "2018-02-06T00:53:52.073116Z",
     "start_time": "2018-02-06T00:53:50.984843Z"
    }
   },
   "outputs": [],
   "source": [
    "vis_litho.render_classes_planar(lithology_3d_array, 'Primary lithology')"
   ]
  },
  {
   "cell_type": "code",
   "execution_count": null,
   "metadata": {},
   "outputs": [],
   "source": []
  },
  {
   "cell_type": "markdown",
   "metadata": {},
   "source": [
    "### Export volumes for depth from ground"
   ]
  },
  {
   "cell_type": "code",
   "execution_count": null,
   "metadata": {},
   "outputs": [],
   "source": [
    "max_depth = 100\n",
    "dim_x,dim_y = (lithology_3d_array.shape[0],lithology_3d_array.shape[1])\n",
    "dim_z = max_depth + 1\n",
    "dims = (dim_x,dim_y,dim_z)"
   ]
  },
  {
   "cell_type": "code",
   "execution_count": null,
   "metadata": {
    "ExecuteTime": {
     "end_time": "2018-02-06T00:52:09.948084Z",
     "start_time": "2018-02-06T00:52:09.942527Z"
    }
   },
   "outputs": [],
   "source": [
    "grid_res = dem_array_data['grid_res']\n",
    "x_min, x_max, y_min, y_max = dem_array_data['bounds']\n",
    "xx, yy = dem_array_data['mesh_xy']\n",
    "dem_array = dem_array_data['dem_array']"
   ]
  },
  {
   "cell_type": "code",
   "execution_count": null,
   "metadata": {},
   "outputs": [],
   "source": [
    "litho_classes_depth=np.empty(dims)\n",
    "for depth in range(0, dim_z, 1):\n",
    "    s = slice_volume(lithology_3d_array, dem_array - depth, z_index_for_ahd)\n",
    "    litho_classes_depth[:,:,(max_depth - depth)] = s"
   ]
  },
  {
   "cell_type": "code",
   "execution_count": null,
   "metadata": {},
   "outputs": [],
   "source": [
    "fig, ax = plt.subplots(figsize=(12, 12))\n",
    "imgplot = plt.imshow(to_carto(litho_classes_depth[:,:,dim_z-30]), cmap=cms['cmap'])\n",
    "t = plt.title('Primary lithologies at 30m depth')"
   ]
  },
  {
   "cell_type": "code",
   "execution_count": null,
   "metadata": {},
   "outputs": [],
   "source": [
    "fig, ax = plt.subplots(figsize=(12, 12))\n",
    "imgplot = plt.imshow(to_carto(litho_classes_depth[:,:,dim_z-1]), cmap=cms['cmap'])\n",
    "t = plt.title('Primary lithologies at 1m depth')"
   ]
  },
  {
   "cell_type": "markdown",
   "metadata": {},
   "source": [
    "## Appendix / Attic"
   ]
  },
  {
   "cell_type": "code",
   "execution_count": null,
   "metadata": {},
   "outputs": [],
   "source": [
    "def plot_borehole_data(df):\n",
    "    # We may have something fancy visual down the track, for now, a dataframe subsetting. \n",
    "    px = [p.Time for p in points]\n",
    "    py = [p.CND_011 for p in points]\n",
    "\n",
    "    x_scale, y_scale = LinearScale(), LogScale()\n",
    "    x_scale.allow_padding = False\n",
    "    x_ax = Axis(label='Time (s)', scale=x_scale)\n",
    "    y_ax = Axis(label='CND 011(?)', scale=y_scale, orientation='vertical')\n",
    "\n",
    "    lines = Lines(x=px, y=py, scales={'x': x_scale, 'y': y_scale})\n",
    "\n",
    "    elevation = Figure(title='CND 011 Chart', axes=[x_ax, y_ax], marks=[lines])\n",
    "    elevation.layout.width = 'auto'\n",
    "    elevation.layout.height = 'auto'\n",
    "    elevation.layout.min_height = '500px'\n",
    "\n",
    "    elevation.interaction = IndexSelector(scale=x_scale)\n",
    "\n",
    "    return elevation"
   ]
  },
  {
   "cell_type": "code",
   "execution_count": null,
   "metadata": {},
   "outputs": [],
   "source": [
    "def link_geo_borehole(geomap, boreholelayer):\n",
    "    \"\"\"\n",
    "    Links the geolocation of the markers to the display of the bvorehole log\n",
    "    Changing the selection on the marker will update the\n",
    "    borehole display\n",
    "    \"\"\"\n",
    "    # add a checkbox to auto center\n",
    "    autocenter = Checkbox(value=False, description='Auto Center')\n",
    "    autocenter_control = WidgetControl(widget=autocenter, position='bottomright')\n",
    "    geomap.add_control(autocenter_control)\n",
    "\n",
    "    brushintsel = geomap.interaction\n",
    "    def update_range(change):\n",
    "        \"\"\"\n",
    "        Update the position on the map when the elevation\n",
    "        graph selector changes\n",
    "        \"\"\"\n",
    "        if brushintsel.selected.shape != (1,):\n",
    "            return\n",
    "        marker.visible = True\n",
    "        selected = brushintsel.selected # time stamp in seconds for a day\n",
    "        point = find_point(selected)\n",
    "        marker.location = (point.Latitude, point.Longitude)\n",
    "        if autocenter.value:\n",
    "            trace.center = marker.location\n",
    "        #position = max(0, int((selected / distance_from_start) * len(points)))\n",
    "    brushintsel.observe(update_range, 'selected')\n",
    "\n",
    "    \n",
    "def link_trace_elevation(trace, elevation, points):\n",
    "    \"\"\"\n",
    "    Link the trace the elevation graph.\n",
    "    Changing the selection on the elevation will update the\n",
    "    marker on the map\n",
    "    \"\"\"\n",
    "    times = np.asarray([p.Time for p in points])\n",
    "\n",
    "    def find_point(time):\n",
    "        \"\"\"\n",
    "        Find a point given the time\n",
    "        \"\"\"\n",
    "        dist_1 = abs(times - time)\n",
    "        pos = np.argmin(dist_1)\n",
    "        return points[pos]\n",
    "    \n",
    "    # add a checkbox to auto center\n",
    "    autocenter = Checkbox(value=False, description='Auto Center')\n",
    "    autocenter_control = WidgetControl(widget=autocenter, position='bottomright')\n",
    "    trace.add_control(autocenter_control)\n",
    "    # mark the current position on the map\n",
    "    start = points[0]\n",
    "    marker = CircleMarker(visible=False, location=(start.Latitude, start.Longitude),\n",
    "                          radius=10, color=\"green\", fill_color=\"green\")\n",
    "    trace.add_layer(marker)\n",
    "    brushintsel = elevation.interaction\n",
    "    def update_range(change):\n",
    "        \"\"\"\n",
    "        Update the position on the map when the elevation\n",
    "        graph selector changes\n",
    "        \"\"\"\n",
    "        if brushintsel.selected.shape != (1,):\n",
    "            return\n",
    "        marker.visible = True\n",
    "        selected = brushintsel.selected # time stamp in seconds for a day\n",
    "        point = find_point(selected)\n",
    "        marker.location = (point.Latitude, point.Longitude)\n",
    "        if autocenter.value:\n",
    "            trace.center = marker.location\n",
    "        #position = max(0, int((selected / distance_from_start) * len(points)))\n",
    "    brushintsel.observe(update_range, 'selected')\n"
   ]
  },
  {
   "cell_type": "code",
   "execution_count": null,
   "metadata": {},
   "outputs": [],
   "source": [
    "from ipywidgets import FloatSlider\n",
    "interact(slow_function,i=FloatSlider(min=1e5, max=1e7, step=1e5));"
   ]
  },
  {
   "cell_type": "code",
   "execution_count": null,
   "metadata": {},
   "outputs": [],
   "source": [
    "def plot_gpx(points):\n",
    "    trace = plot_map(points)\n",
    "    elevation = plot_elevation(points)\n",
    "    debug = Label(value='')\n",
    "    display(trace)\n",
    "    display(elevation)\n",
    "    display(debug)\n",
    "    link_trace_elevation(trace, elevation, points)"
   ]
  },
  {
   "cell_type": "code",
   "execution_count": null,
   "metadata": {},
   "outputs": [],
   "source": [
    "plot_gpx(points)"
   ]
  },
  {
   "cell_type": "markdown",
   "metadata": {},
   "source": [
    "## Trying to revisit cartopy... "
   ]
  },
  {
   "cell_type": "code",
   "execution_count": null,
   "metadata": {},
   "outputs": [],
   "source": [
    "\n",
    "# These functions were an attempt to have interactive maps with ipywidgets but proved to be a pain. \n",
    "# I may revisit later on but these are parked. \n",
    "\n",
    "def plot_lithologydata_slice_points_redo(df, \n",
    "    slice_depth, extent, data_proj, \n",
    "    near_field_extents, geoms, terrain):\n",
    "    # fig,ax=plt.subplots(1,1,figsize=(15,15), subplot_kw={'projection': data_proj, 'extent': extent})\n",
    "    fig,ax=plt.subplots(1,1,figsize=(15,15), subplot_kw={'projection': data_proj})\n",
    "    # fig.clear()\n",
    "    # ax.clear()\n",
    "    ax.add_image(terrain, 11)\n",
    "    #ax.add_geometries(geoms[0], ccrs.PlateCarree(),facecolor='none',edgecolor='k',zorder=1)\n",
    "    #ax.add_geometries(geoms[1], ccrs.PlateCarree(),facecolor='none',edgecolor='r',zorder=1)\n",
    "    for val,label in zip(ax.get_xticks(), ax.get_xticklabels()):\n",
    "        label.set_text(str(val))\n",
    "        label.set_position((val,0))  \n",
    "    for val,label in zip(ax.get_yticks(), ax.get_yticklabels()):   \n",
    "        label.set_text(str(val))\n",
    "        label.set_position((0,val))  \n",
    "    plt.tick_params(bottom=True,top=True,left=True,right=True,labelbottom=True,labeltop=False,labelleft=True,labelright=False)\n",
    "    ax.xaxis.set_visible(True)\n",
    "    ax.yaxis.set_visible(True)\n",
    "    ax.ticklabel_format(useOffset=False)\n",
    "    ax.ticklabel_format(style='plain')\n",
    "    ax.grid(False)\n",
    "    ax.text(0.1, 0.9, u'\\u25B2 \\nN ',\n",
    "        horizontalalignment='center',\n",
    "        verticalalignment='center',\n",
    "        fontsize=25, \n",
    "        color='k',\n",
    "        family='Arial',\n",
    "        transform=ax.transAxes)\n",
    "    ax.set_extent(near_field_extents, crs=data_proj)\n",
    "    # Note that all of the above is independent of slice depth and background that would not need redoing\n",
    "    # but Matplotlib befuddles (or rather the interplay with ipywidgets)\n",
    "    df_slice=df.loc[(df[DEPTH_FROM_COL] <= slice_depth) & (df[DEPTH_TO_COL] >= slice_depth)]\n",
    "    ax.scatter(df_slice.Easting.values,df_slice.Northing.values)\n",
    "    plt.title('bore log locations at %s m depth'%(slice_depth), fontsize=20, weight='bold')\n",
    "    # I cannot fathom why this stuff actually plots anything \n",
    "    # via ipywidgets or otherwise since it returns nothing.\n",
    "\n",
    "def create_background(extent, data_proj, \n",
    "    near_field_extents, geoms):\n",
    "    fig,ax=plt.subplots(1,1,figsize=(15,15), subplot_kw={'projection': data_proj,'extent': extent})\n",
    "    stamen_terrain = cimgt.Stamen('terrain-background')\n",
    "    ax.add_image(stamen_terrain, 11)\n",
    "    ax.add_geometries(geoms[0], ccrs.PlateCarree(),facecolor='none',edgecolor='k',zorder=1)\n",
    "    ax.add_geometries(geoms[1], ccrs.PlateCarree(),facecolor='none',edgecolor='r',zorder=1)\n",
    "    for val,label in zip(ax.get_xticks(), ax.get_xticklabels()):\n",
    "        label.set_text(str(val))\n",
    "        label.set_position((val,0))  \n",
    "    for val,label in zip(ax.get_yticks(), ax.get_yticklabels()):   \n",
    "        label.set_text(str(val))\n",
    "        label.set_position((0,val))  \n",
    "    plt.tick_params(bottom=True,top=True,left=True,right=True,labelbottom=True,labeltop=False,labelleft=True,labelright=False)\n",
    "\n",
    "    ax.xaxis.set_visible(True)\n",
    "    ax.yaxis.set_visible(True)\n",
    "    ax.ticklabel_format(useOffset=False)\n",
    "    ax.ticklabel_format(style='plain')\n",
    "\n",
    "    ax.grid(False)\n",
    "\n",
    "    ax.text(0.1, 0.9, u'\\u25B2 \\nN ',\n",
    "        horizontalalignment='center',\n",
    "        verticalalignment='center',\n",
    "        fontsize=25, \n",
    "        color='k',\n",
    "        family='Arial',\n",
    "        transform=ax.transAxes)\n",
    "\n",
    "    ax.set_extent(near_field_extents, crs=data_proj)\n",
    "    scatter_layer = ax.scatter(near_field_extents[0], near_field_extents[2])\n",
    "    return (fig, scatter_layer)\n",
    "\n",
    "def plot_lithologydata_slice_points(df, slice_depth, scatter_layer, fig):\n",
    "    df_slice=df.loc[(df[DEPTH_FROM_COL] <= slice_depth) & (df[DEPTH_TO_COL] >= slice_depth)]\n",
    "    plt.title('bore log locations at %s m depth'%(slice_depth), fontsize=20, weight='bold')\n",
    "    e = df_slice.Easting.values\n",
    "    n = df_slice.Northing.values\n",
    "    bore_coords = [[e[i], n[i]] for i in range(0, len(e))]\n",
    "    scatter_layer.set_offsets(bore_coords)\n",
    "    fig.canvas.draw()\n",
    "    fig.canvas.flush_events()\n",
    "    return fig\n",
    "\n",
    "def plot_lithologydata_slice_depth(df, slice_depth, n_neighbours, extent, data_proj, near_field_extents, geoms, gw_subareas, cmap_settings):\n",
    "    df_slice=df.loc[(df[DEPTH_FROM_AHD_COL] >= slice_depth) & (df[DEPTH_TO_AHD_COL] <= slice_depth)]\n",
    "    _,ax=plt.subplots(1,1,figsize=(15,15),subplot_kw={'projection': data_proj,'extent': extent})\n",
    "    stamen_terrain = cimgt.Stamen('terrain-background')\n",
    "    ax.add_image(stamen_terrain, 11)\n",
    "    ax.add_geometries(geoms[0], ccrs.PlateCarree(),facecolor='none',edgecolor='k',zorder=1)\n",
    "    ax.add_geometries(geoms[1], ccrs.PlateCarree(),facecolor='none',edgecolor='r',zorder=1)\n",
    "\n",
    "    for i, txt in enumerate(df_slice[PRIMARY_LITHO_COL].values):\n",
    "        plt.annotate(txt,(df_slice.Easting.values[i],df_slice.Northing.values[i]),fontsize=8,clip_on=True)\n",
    "    \n",
    "    for val,label in zip(ax.get_xticks(), ax.get_xticklabels()):\n",
    "        label.set_text(str(val))\n",
    "        label.set_position((val,0))  \n",
    "    \n",
    "    for val,label in zip(ax.get_yticks(), ax.get_yticklabels()):   \n",
    "        label.set_text(str(val))\n",
    "        label.set_position((0,val))  \n",
    "    \n",
    "    plt.tick_params(bottom=True,top=True,left=True,right=True,labelbottom=True,labeltop=False,labelleft=True,labelright=False)\n",
    "    ax.xaxis.set_visible(True)\n",
    "    ax.yaxis.set_visible(True)\n",
    "    ax.ticklabel_format(useOffset=False)\n",
    "    ax.ticklabel_format(style='plain')\n",
    "    ax.grid(False)\n",
    "    ax.text(0.1, 0.9, u'\\u25B2 \\nN ',\n",
    "        horizontalalignment='center',\n",
    "        verticalalignment='center',\n",
    "        fontsize=25, \n",
    "        color='k',\n",
    "        family='Arial',\n",
    "        transform=ax.transAxes)\n",
    "    plt.title('KNN facies classification at %s m AHD (neighbours=%s)'%(slice_depth,n_neighbours), fontsize=20, weight='bold')\n",
    "\n",
    "    df_1=df_slice[df_slice.Lithology_1 != \"\"]\n",
    "    # X = df_1.as_matrix(columns=[EASTING_COL, NORTHING_COL])\n",
    "    X = df_1[[EASTING_COL, NORTHING_COL]].values\n",
    "    y = np.array(df_1[PRIMARY_LITHO_NUM_COL])\n",
    "    knn = neighbors.KNeighborsClassifier(n_neighbours, weights = KNN_WEIGHTING).fit(X, y)\n",
    "    grid_res=100\n",
    "    \n",
    "    # max/min bounds\n",
    "    x_min=gw_subareas.total_bounds[0]\n",
    "    y_min=gw_subareas.total_bounds[1]\n",
    "    x_max=gw_subareas.total_bounds[2]\n",
    "    y_max=gw_subareas.total_bounds[3]\n",
    "    \n",
    "    xx, yy = np.meshgrid(np.arange(x_min, x_max, grid_res),np.arange(y_min, y_max, grid_res))\n",
    "    predicted = knn.predict(np.c_[xx.ravel(), yy.ravel()])\n",
    "    predicted = predicted.reshape(xx.shape)\n",
    "    plt.pcolormesh(xx, yy, predicted, cmap=cmap_settings['cmap'], norm=cmap_settings['norm'], alpha=0.3)\n",
    "    ax.set_extent(near_field_extents, crs=data_proj)\n",
    "\n"
   ]
  },
  {
   "cell_type": "code",
   "execution_count": null,
   "metadata": {},
   "outputs": [],
   "source": [
    "import cartopy.io.img_tiles as cimgt\n",
    "\n",
    "%matplotlib inline\n",
    "%config InlineBackend.figure_format = 'retina'"
   ]
  },
  {
   "cell_type": "code",
   "execution_count": null,
   "metadata": {
    "ExecuteTime": {
     "end_time": "2018-02-06T00:50:58.799366Z",
     "start_time": "2018-02-06T00:50:55.503766Z"
    }
   },
   "outputs": [],
   "source": [
    "def bbox_as_list(bbox):\n",
    "    return [bbox[i] for i in range(4)]"
   ]
  },
  {
   "cell_type": "code",
   "execution_count": null,
   "metadata": {},
   "outputs": [],
   "source": [
    "extent = bbox_as_list(dem.bounds)\n",
    "near_field_extents=bbox_as_list(dem.bounds)\n",
    "#data_proj = dem.crs"
   ]
  },
  {
   "cell_type": "code",
   "execution_count": null,
   "metadata": {},
   "outputs": [],
   "source": [
    "extent"
   ]
  },
  {
   "cell_type": "code",
   "execution_count": null,
   "metadata": {},
   "outputs": [],
   "source": [
    "data_proj=ccrs.epsg(28355)\n",
    "\n",
    "stamen_terrain = cimgt.Stamen('terrain-background')\n",
    "terrain = stamen_terrain"
   ]
  },
  {
   "cell_type": "code",
   "execution_count": null,
   "metadata": {},
   "outputs": [],
   "source": [
    "fig,ax=plt.subplots(1,1,figsize=(15,15), subplot_kw={'projection': data_proj, 'extent': extent})\n",
    "#fig,ax=plt.subplots(1,1,figsize=(15,15), subplot_kw={'projection': data_proj})\n",
    "# fig.clear()\n",
    "# ax.clear()\n",
    "fig,ax=plt.subplots(1,1,figsize=(15,15), subplot_kw={'projection': data_proj, 'extent': extent})"
   ]
  },
  {
   "cell_type": "code",
   "execution_count": null,
   "metadata": {},
   "outputs": [],
   "source": [
    "fig = plt.figure(figsize=(12,8))\n",
    "ax = fig.add_subplot(1, 1, 1, projection=data_proj)"
   ]
  },
  {
   "cell_type": "code",
   "execution_count": null,
   "metadata": {},
   "outputs": [],
   "source": [
    "import matplotlib.pyplot as plt\n",
    "import cartopy.crs as ccrs\n",
    "import cartopy.feature as cfeature\n",
    "\n",
    "fig = plt.figure(figsize=(12,8))\n",
    "ax = fig.add_subplot(1, 1, 1, projection=data_proj)\n",
    "#ax = fig.add_subplot(1, 1, 1, projection=ccrs.PlateCarree())\n",
    "#ax.get_extent()"
   ]
  },
  {
   "cell_type": "code",
   "execution_count": null,
   "metadata": {},
   "outputs": [],
   "source": [
    "ax.set_extent(extent, data_proj)"
   ]
  },
  {
   "cell_type": "code",
   "execution_count": null,
   "metadata": {},
   "outputs": [],
   "source": [
    "#ax.set_global()\n",
    "#ax.stock_img()\n",
    "\n",
    "ax.add_feature(cfeature.LAND, color='wheat')\n",
    "\n",
    "ax.set_title('Cartopy Map Features - Demo', size=20, weight='bold', color='g')\n",
    "ax.text(0.5, -0.06, 'Longitude', va='bottom', ha='center', size=15, color='r', rotation='horizontal', rotation_mode='anchor', transform=ax.transAxes)\n",
    "ax.text(-0.02, 0.55, 'Latitude', va='bottom', ha='center', size=15, color='b', rotation='vertical', rotation_mode='anchor', transform=ax.transAxes)\n",
    "\n",
    "plt.show()"
   ]
  },
  {
   "cell_type": "code",
   "execution_count": null,
   "metadata": {},
   "outputs": [],
   "source": [
    "plt.show()"
   ]
  },
  {
   "cell_type": "code",
   "execution_count": null,
   "metadata": {},
   "outputs": [],
   "source": [
    "ax.add_image(terrain, 11)"
   ]
  },
  {
   "cell_type": "code",
   "execution_count": null,
   "metadata": {},
   "outputs": [],
   "source": [
    "#ax.add_geometries(geoms[0], ccrs.PlateCarree(),facecolor='none',edgecolor='k',zorder=1)\n",
    "#ax.add_geometries(geoms[1], ccrs.PlateCarree(),facecolor='none',edgecolor='r',zorder=1)\n",
    "for val,label in zip(ax.get_xticks(), ax.get_xticklabels()):\n",
    "    label.set_text(str(val))\n",
    "    label.set_position((val,0))  \n",
    "for val,label in zip(ax.get_yticks(), ax.get_yticklabels()):   \n",
    "    label.set_text(str(val))\n",
    "    label.set_position((0,val))  \n",
    "plt.tick_params(bottom=True,top=True,left=True,right=True,labelbottom=True,labeltop=False,labelleft=True,labelright=False)\n",
    "ax.xaxis.set_visible(True)\n",
    "ax.yaxis.set_visible(True)\n",
    "ax.ticklabel_format(useOffset=False)\n",
    "ax.ticklabel_format(style='plain')\n",
    "ax.grid(False)\n",
    "ax.text(0.1, 0.9, u'\\u25B2 \\nN ',\n",
    "    horizontalalignment='center',\n",
    "    verticalalignment='center',\n",
    "    fontsize=25, \n",
    "    color='k',\n",
    "    family='Arial',\n",
    "    transform=ax.transAxes)\n",
    "ax.set_extent(near_field_extents, crs=data_proj)"
   ]
  },
  {
   "cell_type": "code",
   "execution_count": null,
   "metadata": {},
   "outputs": [],
   "source": [
    "ax.add_image(data_proj)"
   ]
  },
  {
   "cell_type": "code",
   "execution_count": null,
   "metadata": {},
   "outputs": [],
   "source": [
    "slice_depth = 5.0\n",
    "# Note that all of the above is independent of slice depth and background that would not need redoing\n",
    "# but Matplotlib befuddles (or rather the interplay with ipywidgets)\n",
    "df_slice=df.loc[(df[DEPTH_FROM_COL] <= slice_depth) & (df[DEPTH_TO_COL] >= slice_depth)]\n",
    "ax.scatter(df_slice.Easting.values,df_slice.Northing.values)\n",
    "plt.title('bore log locations at %s m depth'%(slice_depth), fontsize=20, weight='bold')\n",
    "# I cannot fathom why this stuff actually plots anything \n",
    "# via ipywidgets or otherwise since it returns nothing."
   ]
  },
  {
   "cell_type": "code",
   "execution_count": null,
   "metadata": {},
   "outputs": [],
   "source": [
    "\n",
    "plot_lithologydata_slice_points_redo(df, \n",
    "    5.0, extent, data_proj, \n",
    "    near_field_extents, None, stamen_terrain)"
   ]
  }
 ],
 "metadata": {
  "kernelspec": {
   "display_name": "Lithology",
   "language": "python",
   "name": "ela"
  },
  "language_info": {
   "codemirror_mode": {
    "name": "ipython",
    "version": 3
   },
   "file_extension": ".py",
   "mimetype": "text/x-python",
   "name": "python",
   "nbconvert_exporter": "python",
   "pygments_lexer": "ipython3",
   "version": "3.8.8"
  }
 },
 "nbformat": 4,
 "nbformat_minor": 4
}
