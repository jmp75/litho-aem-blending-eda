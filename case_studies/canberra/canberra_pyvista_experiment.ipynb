{
 "cells": [
  {
   "cell_type": "markdown",
   "metadata": {},
   "source": [
    "# Nappe de Morlces, Switzerland\n",
    "\n",
    "Notebook crated by [Bane Sullivan](https://banesullivan.com)\n",
    "\n",
    "\n",
    "Download and extract that data from the archive: https://doi.org/10.6084/m9.figshare.c.4130759\n",
    "\n",
    "> Dataset representing a 3D geological reconstruction of the a section of the Nappe de Morlces, Switzerland. Associated with \"A 3D geological model of a structurally complex Alpine region as a basis for interdisciplinary research\" (Thornton et al.)\n",
    "\n",
    "> Thornton, J. M., Mariethoz, G., & Brunner, P. (2018). A 3D geological model of a structurally complex Alpine region as a basis for interdisciplinary research. https://doi.org/10.6084/m9.figshare.6507437.v1"
   ]
  },
  {
   "cell_type": "code",
   "execution_count": null,
   "metadata": {},
   "outputs": [],
   "source": [
    "import numpy as np\n",
    "import PVGeo\n",
    "import pyvista as pv\n",
    "import glob\n",
    "import os\n",
    "from matplotlib.colors import ListedColormap"
   ]
  },
  {
   "cell_type": "code",
   "execution_count": null,
   "metadata": {},
   "outputs": [],
   "source": [
    "import sys\n",
    "import pandas as pd\n",
    "#from matplotlib.colors import ListedColormap"
   ]
  },
  {
   "cell_type": "code",
   "execution_count": null,
   "metadata": {},
   "outputs": [],
   "source": [
    "pv.rcParams[\"colorbar_orientation\"] = \"vertical\"\n",
    "pv.rcParams[\"colorbar_vertical\"][\"height\"] = 0.9"
   ]
  },
  {
   "cell_type": "code",
   "execution_count": null,
   "metadata": {},
   "outputs": [],
   "source": [
    "# colormap\n",
    "colors = {\n",
    "    \"10_basement\": \"#d1d1d1\",\n",
    "    \"11_a\": \"#8b5a2b\",\n",
    "    \"12_i1i\": \"#cd853f\",\n",
    "    \"13_i1s\": \"#ee9a49\",\n",
    "    \"14_i2\": \"#deb887\",\n",
    "    \"15_i3_4\": \"#6e8b3d\",\n",
    "    \"16_i5\": \"#5f9ea0\",\n",
    "    \"17_i6_8\": \"#7ac5cd\",\n",
    "    \"18_i8c2\": \"#8fbc8f\",\n",
    "    \"19_c2k\": \"#9acd32\",\n",
    "    \"20_c3\": \"#cd9b1d\",\n",
    "    \"21_c4\": \"#9acd32\",\n",
    "    \"22_c4_5\": \"#548b54\",\n",
    "    \"23_c6_8\": \"#ff6347\",\n",
    "    \"24_e5\": \"#f08080\",\n",
    "    \"25_e6c\": \"#f4a460\",\n",
    "    \"26_e6k\": \"#eedc82\",\n",
    "    \"27_e6o1\": \"#ffff00\",\n",
    "}\n",
    "cmap = ListedColormap(colors.values())\n",
    "\n",
    "annotations = dict([(int(k[:2]), k) for k in colors.keys()])\n",
    "\n",
    "dargs = dict(cmap=cmap, clim=[9.5, 27.5], n_colors=len(colors),\n",
    "             annotations=annotations, \n",
    "             scalar_bar_args=dict(n_labels=0, position_x=0.15, \n",
    "                                  interactive=True, title_font_size=12))"
   ]
  },
  {
   "cell_type": "code",
   "execution_count": null,
   "metadata": {},
   "outputs": [],
   "source": [
    "# Only set to True for co-dev of ela from this use case:\n",
    "ela_from_source = False\n",
    "ela_from_source = True"
   ]
  },
  {
   "cell_type": "code",
   "execution_count": null,
   "metadata": {},
   "outputs": [],
   "source": [
    "if ela_from_source:\n",
    "    if ('ELA_SRC' in os.environ):\n",
    "        root_src_dir = os.environ['ELA_SRC']\n",
    "    elif sys.platform == 'win32':\n",
    "        root_src_dir = r'C:\\src\\github_jm\\pyela'\n",
    "    else:\n",
    "        username = os.environ['USER']\n",
    "        root_src_dir = os.path.join('/home', username, 'src/ela/pyela')\n",
    "    pkg_src_dir = root_src_dir\n",
    "    sys.path.insert(0, pkg_src_dir)\n",
    "\n",
    "from ela.textproc import *\n",
    "from ela.utils import *\n",
    "from ela.classification import *\n",
    "from ela.visual import *\n",
    "from ela.spatial import SliceOperation"
   ]
  },
  {
   "cell_type": "code",
   "execution_count": null,
   "metadata": {},
   "outputs": [],
   "source": [
    "from ela.visual import discrete_classes_colormap\n",
    "# from ela.VisualizeDataProcess import VisualizeDataProcess\n",
    "\n",
    "from pyvista_sample.VisualizeDataProcess import VisualizeDataProcess\n"
   ]
  },
  {
   "cell_type": "markdown",
   "metadata": {},
   "source": [
    "## Surfaces\n",
    "\n",
    "Load surfaces representing the lithology regions of the 3D model"
   ]
  },
  {
   "cell_type": "code",
   "execution_count": null,
   "metadata": {},
   "outputs": [],
   "source": [
    "# Load poly data surface\n",
    "# path = \"/home/per202/data/tmp/Thornton/Surfaces for ParaView/\"\n",
    "# files = [f for f in glob.glob(path + \"*.vtp\")]\n",
    "import pickle\n",
    "\n",
    "data_path = '/home/per202/data/Lithology/Canberra/out'\n",
    "fp = os.path.join(data_path, '3d_primary_litho.pkl')\n",
    "with open(fp, 'rb') as handle:\n",
    "    lithology_3d_array = pickle.load(handle, encoding='latin1')\n",
    "\n",
    "    "
   ]
  },
  {
   "cell_type": "code",
   "execution_count": null,
   "metadata": {},
   "outputs": [],
   "source": [
    "lithology_3d_array[102,102,102]\n",
    "    "
   ]
  },
  {
   "cell_type": "code",
   "execution_count": null,
   "metadata": {},
   "outputs": [],
   "source": [
    "dp = VisualizeDataProcess()"
   ]
  },
  {
   "cell_type": "code",
   "execution_count": null,
   "metadata": {},
   "outputs": [],
   "source": [
    "layer = dp.build_layer_mesh(lithology_3d_array, height_adjustment_factor=10, layer_from=0, layer_to=6)"
   ]
  },
  {
   "cell_type": "code",
   "execution_count": null,
   "metadata": {},
   "outputs": [],
   "source": [
    "print(layer.contour.__doc__)"
   ]
  },
  {
   "cell_type": "code",
   "execution_count": null,
   "metadata": {},
   "outputs": [],
   "source": [
    "# layer.contour(isosurfaces=np.arange(0,6) + 0.5)\n",
    "iso = layer.contour(isosurfaces=6)"
   ]
  },
  {
   "cell_type": "code",
   "execution_count": null,
   "metadata": {},
   "outputs": [],
   "source": [
    "#set up the style of scalar bar and annotations\n",
    "annotations = {\n",
    "    00.0: 'shale',\n",
    "    01.0: 'clay',\n",
    "    02.0: 'granite',\n",
    "    03.0: 'soil',\n",
    "    04.0: 'sand',\n",
    "    05.0: 'porphyry',\n",
    "    06.0: 'siltstone',\n",
    "    07.0: 'dacite',\n",
    "    08.0: 'rhyodacite',\n",
    "    09.0: 'gravel',\n",
    "    10.0: 'limestone',\n",
    "    11.0: 'sandstone',\n",
    "    12.0: 'slate',\n",
    "    13.0: 'mudstone',\n",
    "    14.0: 'rock',\n",
    "    15.0: 'ignimbrite',\n",
    "    16.0: 'tuff'\n",
    "}"
   ]
  },
  {
   "cell_type": "code",
   "execution_count": null,
   "metadata": {},
   "outputs": [],
   "source": [
    "plotter = pv.Plotter()"
   ]
  },
  {
   "cell_type": "code",
   "execution_count": null,
   "metadata": {},
   "outputs": [],
   "source": [
    "# plotter.add_mesh(layer, scalars=\"Lithology\", n_colors=len(annotations), clim=[0, len(annotations) - 1],\n",
    "#                  show_scalar_bar=False)\n",
    "plotter.add_mesh(iso, scalars=\"Lithology\", n_colors=len(annotations), clim=[0, len(annotations) - 1],\n",
    "                 show_scalar_bar=False)"
   ]
  },
  {
   "cell_type": "code",
   "execution_count": null,
   "metadata": {},
   "outputs": [],
   "source": []
  },
  {
   "cell_type": "code",
   "execution_count": null,
   "metadata": {},
   "outputs": [],
   "source": [
    "plotter.show_axes()\n"
   ]
  },
  {
   "cell_type": "code",
   "execution_count": null,
   "metadata": {},
   "outputs": [],
   "source": [
    "plotter.show(title=\"Canberra\",use_panel=True,auto_close=False)"
   ]
  },
  {
   "cell_type": "code",
   "execution_count": null,
   "metadata": {},
   "outputs": [],
   "source": [
    "read = lambda f: (os.path.basename(f)[:-4], pv.read(f))\n",
    "surfaces = pv.MultiBlock(dict([read(f) for f in files]))\n",
    "\n",
    "surfaces"
   ]
  },
  {
   "cell_type": "code",
   "execution_count": null,
   "metadata": {},
   "outputs": [],
   "source": [
    "p = pv.Plotter(notebook=1)\n",
    "for i, surf in enumerate(surfaces):\n",
    "    name = surfaces.get_block_name(i)\n",
    "    p.add_mesh(surf, color=colors[name])\n",
    "p.show()"
   ]
  },
  {
   "cell_type": "markdown",
   "metadata": {},
   "source": [
    "## 3D Model\n",
    "\n",
    "Load a 3D model and do some cool stuff!"
   ]
  },
  {
   "cell_type": "code",
   "execution_count": null,
   "metadata": {
    "scrolled": true
   },
   "outputs": [],
   "source": [
    "# path = \"Thornton_et_al/SGeMS voxel format/\"\n",
    "# files = [f for f in glob.glob(path + \"*.SGEMS\")]\n",
    "\n",
    "def read_sgems(filename, extent):\n",
    "    \"\"\"String filename and (nx,ny,nz) extent\"\"\"\n",
    "    extent = np.append(np.array(extent), 1)\n",
    "    table = PVGeo.gslib.GSLibReader().apply(filename)\n",
    "    grid = PVGeo.grids.TableToTimeGrid(extent=extent).apply(table)\n",
    "    grid.origin = (570500.0, 112400.0, 0.0)\n",
    "    return grid\n",
    "\n",
    "grid_50 = read_sgems('/home/per202/data/tmp/Thornton/SGeMS voxel format/50m.SGEMS', (192, 268, 65))\n",
    "grid_50.spacing = (50, 50, 50)\n",
    "# remove invalid regions of model (zeros)\n",
    "model = grid_50.threshold(0.5)\n",
    "model"
   ]
  },
  {
   "cell_type": "code",
   "execution_count": null,
   "metadata": {},
   "outputs": [],
   "source": [
    "box = [570500.0+10, 580100.0-10, \n",
    "       112400.0+10, 125800.0-10, \n",
    "       450.0+10, 3250.0-10]\n",
    "topo = grid_50.threshold(0.0, \n",
    "                         invert=True).extract_surface().clip_box(box, \n",
    "                                                                 invert=False)\n",
    "topo = topo.extract_surface().smooth(500).elevation()\n",
    "p = pv.Plotter()\n",
    "p.add_mesh(topo, scalars=\"Elevation\", cmap=\"terrain\")\n",
    "p.show(use_panel=True, auto_close=False)"
   ]
  },
  {
   "cell_type": "code",
   "execution_count": null,
   "metadata": {},
   "outputs": [],
   "source": [
    "p = pv.Plotter(notebook=True)\n",
    "p.add_mesh(model, **dargs)\n",
    "p.show(use_panel=True, auto_close=False)"
   ]
  },
  {
   "cell_type": "code",
   "execution_count": null,
   "metadata": {},
   "outputs": [],
   "source": [
    "p = pv.Plotter(notebook=True)\n",
    "p.add_mesh(model.ctp().contour(17), **dargs)\n",
    "p.show(use_panel=True, auto_close=False)"
   ]
  },
  {
   "cell_type": "code",
   "execution_count": null,
   "metadata": {},
   "outputs": [],
   "source": [
    "# This is interactive!!!!\n",
    "\n",
    "p = pv.Plotter(notebook=0)\n",
    "# p.add_mesh(topo, opacity=0.75, cmap=\"gist_earth\")\n",
    "p.add_mesh(model.slice_orthogonal(z=1100), **dargs)\n",
    "\n",
    "\n",
    "def callback(value):\n",
    "    index = int(value)\n",
    "    name = annotations[index]\n",
    "    p.add_mesh(surfaces[name], color=colors[name], \n",
    "               reset_camera=False, name=\"surf_of_interest\")\n",
    "    return\n",
    "\n",
    "p.add_slider_widget(callback, [10, 27], pointb=(0.75,0.9))\n",
    "p.show()"
   ]
  },
  {
   "cell_type": "code",
   "execution_count": null,
   "metadata": {},
   "outputs": [],
   "source": []
  }
 ],
 "metadata": {
  "kernelspec": {
   "display_name": "Lithology",
   "language": "python",
   "name": "ela"
  },
  "language_info": {
   "codemirror_mode": {
    "name": "ipython",
    "version": 3
   },
   "file_extension": ".py",
   "mimetype": "text/x-python",
   "name": "python",
   "nbconvert_exporter": "python",
   "pygments_lexer": "ipython3",
   "version": "3.8.8"
  },
  "varInspector": {
   "cols": {
    "lenName": 16,
    "lenType": 16,
    "lenVar": 40
   },
   "kernels_config": {
    "python": {
     "delete_cmd_postfix": "",
     "delete_cmd_prefix": "del ",
     "library": "var_list.py",
     "varRefreshCmd": "print(var_dic_list())"
    },
    "r": {
     "delete_cmd_postfix": ") ",
     "delete_cmd_prefix": "rm(",
     "library": "var_list.r",
     "varRefreshCmd": "cat(var_dic_list()) "
    }
   },
   "types_to_exclude": [
    "module",
    "function",
    "builtin_function_or_method",
    "instance",
    "_Feature"
   ],
   "window_display": false
  }
 },
 "nbformat": 4,
 "nbformat_minor": 4
}
