{
 "cells": [
  {
   "cell_type": "markdown",
   "metadata": {},
   "source": [
    "# Clay Fraction Module Example"
   ]
  },
  {
   "cell_type": "markdown",
   "metadata": {},
   "source": [
    "This notebook is aiming at delivering a brief introduction to blending AEM data and lithology log with clay fraction approach.\n",
    "\n",
    "To simplify the data preprocessing steps, synthetic data is used in this notebook."
   ]
  },
  {
   "cell_type": "markdown",
   "metadata": {},
   "source": [
    "Firstly, let's look at the clay fraction for borehole logs."
   ]
  },
  {
   "cell_type": "code",
   "execution_count": 1,
   "metadata": {},
   "outputs": [],
   "source": [
    "from clayfraction import *"
   ]
  },
  {
   "cell_type": "code",
   "execution_count": 2,
   "metadata": {},
   "outputs": [],
   "source": [
    "bore_dict = {(0.61, 0.0): \"subsoil\",\n",
    "                 (0, -0.61): \"clay\",\n",
    "                 (-0.61, -1.52): \"boulder\",\n",
    "                 (-1.52, -6.71): \"limestone\",\n",
    "                 (-6.71, -10.36): \"limestone\",\n",
    "                 (-10.36, -11.89): \"clay\",\n",
    "                 (-11.89, -12.8): \"limestone\",\n",
    "                 (-12.8, -14.93): \"strata\",\n",
    "                 (-14.93, -18.59): \"limestone\",\n",
    "                 (-18.59, -38.71): \"limestone\",\n",
    "                 (-38.71, -40.23): \"limestone\",\n",
    "                 (-40.23, -62.18): \"limestone\",\n",
    "                 (-62.18, -77.72): \"clay\",\n",
    "                 (-77.72, -86.87): \"limestone\"}\n"
   ]
  },
  {
   "cell_type": "markdown",
   "metadata": {},
   "source": [
    "Assuming the depth (elevation) is represented in AHD and we define the depth (elevation) is 10m from 10m"
   ]
  },
  {
   "cell_type": "code",
   "execution_count": 3,
   "metadata": {},
   "outputs": [
    {
     "data": {
      "text/plain": [
       "{(10, 0): 0.0,\n",
       " (0, -10): 0.061,\n",
       " (-10, -20): 0.1530000000000001,\n",
       " (-20, -30): 0.0,\n",
       " (-30, -40): 0.0,\n",
       " (-40, -50): 0.0,\n",
       " (-50, -60): 0.0,\n",
       " (-60, -70): 0.782,\n",
       " (-70, -80): 0.7719999999999999,\n",
       " (-80, -86.87): 0.0}"
      ]
     },
     "execution_count": 3,
     "metadata": {},
     "output_type": "execute_result"
    }
   ],
   "source": [
    "fraction_list = bore_to_fraction(10, 10,bore_dict)\n",
    "fraction_list"
   ]
  },
  {
   "cell_type": "markdown",
   "metadata": {},
   "source": [
    "There is a simple demo about the CF for this borehole."
   ]
  },
  {
   "cell_type": "markdown",
   "metadata": {},
   "source": [
    "<img src=\"img/cf_for_borehole.png\" width=\"500px;\"/>"
   ]
  },
  {
   "cell_type": "markdown",
   "metadata": {},
   "source": [
    "Now have a exploration on clay fraction model with AEM data"
   ]
  },
  {
   "cell_type": "code",
   "execution_count": 4,
   "metadata": {},
   "outputs": [],
   "source": [
    "import torch\n",
    "from CF_tensor import ClayFraction"
   ]
  },
  {
   "cell_type": "markdown",
   "metadata": {},
   "source": [
    "In this section, we are trying to build a clay fraction model in a (3-D) grid with only 1 depth (elevation) interval of 10m. "
   ]
  },
  {
   "cell_type": "markdown",
   "metadata": {},
   "source": [
    "The cell below builds 10 borehole log data location with clay fraction respectively."
   ]
  },
  {
   "cell_type": "code",
   "execution_count": 5,
   "metadata": {},
   "outputs": [
    {
     "name": "stdout",
     "output_type": "stream",
     "text": [
      "Clay fraction value at location (8.050779,0.192690) is 0.946768\n",
      "Clay fraction value at location (6.235059,0.137408) is 0.919424\n",
      "Clay fraction value at location (3.452262,7.502848) is 0.535670\n",
      "Clay fraction value at location (7.350189,6.684819) is 0.086902\n",
      "Clay fraction value at location (7.569018,3.199718) is 0.971986\n",
      "Clay fraction value at location (8.277180,1.795287) is 0.222878\n",
      "Clay fraction value at location (4.203513,5.796410) is 0.929838\n",
      "Clay fraction value at location (6.910735,2.410186) is 0.817423\n",
      "Clay fraction value at location (8.164867,6.395492) is 0.620989\n",
      "Clay fraction value at location (1.487830,3.759527) is 0.734680\n"
     ]
    }
   ],
   "source": [
    "log_x=torch.rand(1,10)*10   \n",
    "log_y = torch.rand(1,10)*10\n",
    "log_cf= torch.rand(1,10)\n",
    "for i in range(10):\n",
    "    print (\"Clay fraction value at location ({:f},{:f}) is {:f}\".format(log_x[0][i],log_y[0][i],log_cf[0][i]))\n"
   ]
  },
  {
   "cell_type": "markdown",
   "metadata": {},
   "source": [
    "This cell makes up 100 AEM data point with resistivity value. (Assume this data grid covers 2 AEM data sample depth intervals which are 4m and 6m)"
   ]
  },
  {
   "cell_type": "code",
   "execution_count": 6,
   "metadata": {},
   "outputs": [
    {
     "name": "stdout",
     "output_type": "stream",
     "text": [
      "The resistivity at AEM data point (4.494390,3.425762) is 47.039421 at 0-4m and 90.334328 at 4-6m\n",
      "The resistivity at AEM data point (3.997748,6.116557) is 21.490574 at 0-4m and 47.926807 at 4-6m\n",
      "The resistivity at AEM data point (6.007145,6.378081) is 54.830872 at 0-4m and 37.543171 at 4-6m\n",
      "The resistivity at AEM data point (9.278537,0.844442) is 67.812431 at 0-4m and 26.509130 at 4-6m\n",
      "The resistivity at AEM data point (9.073026,7.924224) is 72.513321 at 0-4m and 77.426765 at 4-6m\n",
      "The resistivity at AEM data point (7.961023,5.072204) is 53.470772 at 0-4m and 5.166566 at 4-6m\n",
      "The resistivity at AEM data point (8.236984,6.791945) is 78.241486 at 0-4m and 83.284164 at 4-6m\n",
      "The resistivity at AEM data point (9.412109,9.027265) is 79.690979 at 0-4m and 77.791328 at 4-6m\n",
      "The resistivity at AEM data point (2.016736,7.174189) is 70.043259 at 0-4m and 49.707447 at 4-6m\n",
      "The resistivity at AEM data point (0.972992,6.953687) is 60.638573 at 0-4m and 17.103703 at 4-6m\n",
      "The resistivity at AEM data point (1.392376,4.565879) is 32.895164 at 0-4m and 84.717766 at 4-6m\n",
      "The resistivity at AEM data point (1.613799,5.789477) is 71.508049 at 0-4m and 26.541132 at 4-6m\n",
      "The resistivity at AEM data point (8.283892,5.091525) is 11.172771 at 0-4m and 97.869728 at 4-6m\n",
      "The resistivity at AEM data point (1.318916,7.317348) is 76.467468 at 0-4m and 37.057823 at 4-6m\n",
      "The resistivity at AEM data point (0.200688,7.195616) is 34.352501 at 0-4m and 50.659954 at 4-6m\n",
      "The resistivity at AEM data point (2.672215,5.641165) is 40.003109 at 0-4m and 6.868088 at 4-6m\n",
      "The resistivity at AEM data point (6.626270,4.261785) is 19.503582 at 0-4m and 60.811203 at 4-6m\n",
      "The resistivity at AEM data point (3.692548,1.557121) is 58.470570 at 0-4m and 8.497864 at 4-6m\n",
      "The resistivity at AEM data point (3.758874,2.094238) is 93.559998 at 0-4m and 67.485931 at 4-6m\n",
      "The resistivity at AEM data point (0.988721,7.397628) is 37.024670 at 0-4m and 50.423241 at 4-6m\n"
     ]
    }
   ],
   "source": [
    "aem_x = torch.rand(1,100)*10\n",
    "aem_y = torch.rand(1,100)*10\n",
    "aem_resist =  torch.rand(1,100,2)*100 \n",
    "interval = torch.FloatTensor([4,6])\n",
    "# Showing the first 20 AEM data points.\n",
    "for i in range(20):\n",
    "    print (\"The resistivity at AEM data point ({:f},{:f}) is {:f} at 0-4m and {:f} at 4-6m\".format(aem_x[0][i],\n",
    "                                                                                                   aem_y[0][i],\n",
    "                                                                                                   aem_resist[0][i][0],\n",
    "                                                                                                  aem_resist[0][i][1]))"
   ]
  },
  {
   "cell_type": "markdown",
   "metadata": {},
   "source": [
    "Following is the other parameters to build up this model. Notice that constraint_pair is a experience parameter that calls for experienced knowledge. But generally speaking, it depends on the sparsity of borehole logs. If there is only a few borehole logs in this data grid, we could slightly increase teh constraint pair to mitigate the gap of borehole logs.\n",
    "\n",
    "tolerant_err represents the tolerant error in each \"constraint dimension\". The size of this tensor should be consistent with the constraint_pair. For example, if the spatial constraint factor is \\[2,3\\], the tolerant_err should have $2*3=6$ elements"
   ]
  },
  {
   "cell_type": "code",
   "execution_count": 7,
   "metadata": {},
   "outputs": [],
   "source": [
    "constraint_pair =[2,3] #assume the constraint scale is 2*3 and it will be applied to the whole map.\n",
    "tolerant_err = torch.rand(1,6) \n",
    "learning_rate =0.01  "
   ]
  },
  {
   "cell_type": "markdown",
   "metadata": {},
   "source": [
    "Now, we can build a clay_fraction model for this 3-D grid"
   ]
  },
  {
   "cell_type": "code",
   "execution_count": 8,
   "metadata": {},
   "outputs": [],
   "source": [
    "clay_fraction = ClayFraction(log_x,log_y,log_cf,aem_x,aem_y,aem_resist,constraint_pair,tolerant_err,learning_rate)"
   ]
  },
  {
   "cell_type": "markdown",
   "metadata": {},
   "source": [
    "Below are steps should be executed accourding to the flow chart.\n",
    "\n",
    "Fistly, clay fraction value at each AEM data point should be computed using translator function. Here, assume the parameter m_up and m_low is 70 and 50"
   ]
  },
  {
   "cell_type": "code",
   "execution_count": 9,
   "metadata": {},
   "outputs": [
    {
     "name": "stdout",
     "output_type": "stream",
     "text": [
      "The CF at AEM data point (4.494390,3.425762) is 0.397784\n",
      "The CF at AEM data point (3.997748,6.116557) is 0.994610\n",
      "The CF at AEM data point (6.007145,6.378081) is 0.937797\n",
      "The CF at AEM data point (9.278537,0.844442) is 0.625144\n",
      "The CF at AEM data point (9.073026,7.924224) is 0.003028\n",
      "The CF at AEM data point (7.961023,5.072204) is 0.959870\n",
      "The CF at AEM data point (8.236984,6.791945) is 0.000071\n",
      "The CF at AEM data point (9.412109,9.027265) is 0.000169\n",
      "The CF at AEM data point (2.016736,7.174189) is 0.596704\n",
      "The CF at AEM data point (0.972992,6.953687) is 0.780080\n",
      "The CF at AEM data point (1.392376,4.565879) is 0.400000\n",
      "The CF at AEM data point (1.613799,5.789477) is 0.604820\n",
      "The CF at AEM data point (8.283892,5.091525) is 0.400000\n",
      "The CF at AEM data point (1.318916,7.317348) is 0.600248\n",
      "The CF at AEM data point (0.200688,7.195616) is 0.979852\n",
      "The CF at AEM data point (2.672215,5.641165) is 0.999982\n",
      "The CF at AEM data point (6.626270,4.261785) is 0.662102\n",
      "The CF at AEM data point (3.692548,1.557121) is 0.847128\n",
      "The CF at AEM data point (3.758874,2.094238) is 0.042695\n",
      "The CF at AEM data point (0.988721,7.397628) is 0.981844\n"
     ]
    }
   ],
   "source": [
    "m_up=70\n",
    "m_low = 50\n",
    "fed_out = (2*clay_fraction.AEM_resist-m_up-m_low)/(m_up-m_low)\n",
    "aem_cf = clay_fraction.translator_function(fed_out,interval)\n",
    "# Showing the clay fraction value at first 20 AEM data points.\n",
    "for i in range(20):\n",
    "    print (\"The CF at AEM data point ({:f},{:f}) is {:f}\".format(aem_x[0][i],\n",
    "                                                                aem_y[0][i],\n",
    "                                                                aem_cf[0][i]))"
   ]
  },
  {
   "cell_type": "markdown",
   "metadata": {},
   "source": [
    "Then implementing Kriging interpolation at AEM data location to borehole data location. The size of returned tensor should be consistency with borehole data tensor size. "
   ]
  },
  {
   "cell_type": "code",
   "execution_count": 10,
   "metadata": {},
   "outputs": [
    {
     "data": {
      "text/plain": [
       "(tensor([0.6022, 0.6088, 0.6202, 0.6040, 0.6059, 0.6027, 0.6165, 0.6077, 0.6001,\n",
       "         0.6077], dtype=torch.float64),\n",
       " tensor([0.0971, 0.0969, 0.0960, 0.0960, 0.0962, 0.0967, 0.0957, 0.0963, 0.0961,\n",
       "         0.0962], dtype=torch.float64))"
      ]
     },
     "execution_count": 10,
     "metadata": {},
     "output_type": "execute_result"
    }
   ],
   "source": [
    "interpolated_cf, interpolated_var = clay_fraction.Kriging_interpolation(aem_cf)\n",
    "interpolated_cf, interpolated_var   # the interpolated CF value (using AEM data) at borehole loaction, and the vairance."
   ]
  },
  {
   "cell_type": "markdown",
   "metadata": {},
   "source": [
    "Now, calculate 2 regularisation terms $R_{data}$ and $R_{con}$"
   ]
  },
  {
   "cell_type": "code",
   "execution_count": 11,
   "metadata": {},
   "outputs": [
    {
     "data": {
      "text/plain": [
       "(0.6280386484814423, 1.4412093196001134)"
      ]
     },
     "execution_count": 11,
     "metadata": {},
     "output_type": "execute_result"
    }
   ],
   "source": [
    "r_data = clay_fraction.regularization_data(interpolated_cf,interpolated_var)\n",
    "r_con = clay_fraction.regularization_constraint()\n",
    "r_data,r_con"
   ]
  },
  {
   "cell_type": "markdown",
   "metadata": {},
   "source": [
    "Finally, we can see the initial objective function value with the parameter $(m_{up} =70, m_{low}=50)$"
   ]
  },
  {
   "cell_type": "code",
   "execution_count": 12,
   "metadata": {},
   "outputs": [
    {
     "data": {
      "text/plain": [
       "0.6280386484814423"
      ]
     },
     "execution_count": 12,
     "metadata": {},
     "output_type": "execute_result"
    }
   ],
   "source": [
    "obj_value = clay_fraction.regularization_data(interpolated_cf,interpolated_var)\n",
    "obj_value"
   ]
  },
  {
   "cell_type": "markdown",
   "metadata": {},
   "source": [
    "Indeed, it is the first iteration to find out proper parameters $(m_{up}, m_{low})$ for a 3-D grid.\n",
    "\n",
    "The work should be done in the future includes:\n",
    "\n",
    "* Real data preprocessing.\n",
    "* Set up mini batch to train the model. If we train the model for N epochs, the model with smallest objective function value can be used to predict clay fraction in this 3-D grid.\n",
    "* Clustering analysis and visualisation.\n",
    "* Parallel computation for multiple 3-D grid and multi-thread computation."
   ]
  },
  {
   "cell_type": "code",
   "execution_count": null,
   "metadata": {},
   "outputs": [],
   "source": []
  }
 ],
 "metadata": {
  "kernelspec": {
   "display_name": "Py3 ELA",
   "language": "python",
   "name": "ela"
  },
  "language_info": {
   "codemirror_mode": {
    "name": "ipython",
    "version": 3
   },
   "file_extension": ".py",
   "mimetype": "text/x-python",
   "name": "python",
   "nbconvert_exporter": "python",
   "pygments_lexer": "ipython3",
   "version": "3.7.3"
  }
 },
 "nbformat": 4,
 "nbformat_minor": 2
}
