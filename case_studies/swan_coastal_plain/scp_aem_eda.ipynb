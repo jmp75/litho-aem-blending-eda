{
 "cells": [
  {
   "cell_type": "markdown",
   "metadata": {},
   "source": [
    "## Interactive exploration of AEM log data\n",
    "\n",
    "Adapted from [voila-gpx-viewer](https://github.com/jtpio/voila-gpx-viewer), found in the [Voila Gallery](https://voila-gallery.org/services/gallery/)\n",
    "\n",
    "Preparations:\n",
    "\n",
    "```bash\n",
    "conda activate ELA\n",
    "conda install -c conda-forge bqplot ipyleaflet\n",
    "jupyter labextension install jupyter-leaflet bqplot\n",
    "jupyter labextension list\n",
    "cd /path/to/parent/of/thisfile\n",
    "jupyter-lab .\n",
    "```"
   ]
  },
  {
   "cell_type": "code",
   "execution_count": null,
   "metadata": {
    "ExecuteTime": {
     "end_time": "2018-02-27T01:54:38.357642Z",
     "start_time": "2018-02-27T01:54:36.460827Z"
    },
    "init_cell": true
   },
   "outputs": [],
   "source": [
    "import os\n",
    "import sys\n",
    "import pandas as pd\n",
    "import numpy as np\n",
    "import matplotlib.pyplot as plt\n",
    "import rasterio\n",
    "from rasterio.plot import show\n",
    "import geopandas as gpd\n"
   ]
  },
  {
   "cell_type": "code",
   "execution_count": null,
   "metadata": {},
   "outputs": [],
   "source": [
    "import datetime\n",
    "import json\n",
    "\n",
    "from io import StringIO\n",
    "from statistics import mean\n",
    "\n",
    "from bqplot import Axis, Figure, Lines, LinearScale, LogScale\n",
    "from bqplot.interacts import IndexSelector\n",
    "from ipyleaflet import basemaps, FullScreenControl, LayerGroup, Map, MeasureControl, Polyline, Marker, CircleMarker, WidgetControl\n",
    "from ipywidgets import Button, HTML, HBox, VBox, Checkbox, FileUpload, Label, Output, IntSlider, Layout, Image, link"
   ]
  },
  {
   "cell_type": "code",
   "execution_count": null,
   "metadata": {},
   "outputs": [],
   "source": [
    "# Only set to True for co-dev of ela from this use case:\n",
    "ela_from_source = False\n",
    "ela_from_source = True"
   ]
  },
  {
   "cell_type": "code",
   "execution_count": null,
   "metadata": {},
   "outputs": [],
   "source": [
    "if ela_from_source:\n",
    "    if ('ELA_SRC' in os.environ):\n",
    "        root_src_dir = os.environ['ELA_SRC']\n",
    "    elif sys.platform == 'win32':\n",
    "        root_src_dir = r'C:\\src\\github_jm\\pyela'\n",
    "    else:\n",
    "        username = os.environ['USER']\n",
    "        root_src_dir = os.path.join('/home', username, 'src/ela/pyela')\n",
    "    pkg_src_dir = root_src_dir\n",
    "    sys.path.insert(0, pkg_src_dir)\n",
    "\n",
    "from ela.textproc import *\n",
    "from ela.utils import *\n",
    "from ela.classification import *\n",
    "from ela.visual import *\n",
    "from ela.spatial import SliceOperation"
   ]
  },
  {
   "cell_type": "markdown",
   "metadata": {},
   "source": [
    "## Importing data\n",
    "\n",
    "There are two main sets of information we need: the borehole lithology logs, and the spatial information in the surface elevation (DEM) and geolocation of a subset of bores around Bungendore. "
   ]
  },
  {
   "cell_type": "code",
   "execution_count": null,
   "metadata": {},
   "outputs": [],
   "source": [
    "data_path = None"
   ]
  },
  {
   "cell_type": "markdown",
   "metadata": {},
   "source": [
    "You probably want to explicitly set `data_path` to the location where you put the folder(s) e.g:"
   ]
  },
  {
   "cell_type": "code",
   "execution_count": null,
   "metadata": {},
   "outputs": [],
   "source": [
    "#data_path = '/home/myusername/data' # On Linux, if you now have the folder /home/myusername/data/Bungendore\n",
    "#data_path = r'C:\\data\\Lithology'  # windows, if you have C:\\data\\Lithology\\Bungendore"
   ]
  },
  {
   "cell_type": "markdown",
   "metadata": {},
   "source": [
    "Otherwise a fallback for the pyela developer(s)"
   ]
  },
  {
   "cell_type": "code",
   "execution_count": null,
   "metadata": {},
   "outputs": [],
   "source": [
    "if data_path is None:\n",
    "    if ('ELA_DATA' in os.environ):\n",
    "        data_path = os.environ['ELA_DATA']\n",
    "    elif sys.platform == 'win32':\n",
    "        data_path = r'C:\\data\\Lithology'\n",
    "    else:\n",
    "        username = os.environ['USER']\n",
    "        data_path = os.path.join('/home', username, 'data')"
   ]
  },
  {
   "cell_type": "code",
   "execution_count": null,
   "metadata": {},
   "outputs": [],
   "source": [
    "data_path"
   ]
  },
  {
   "cell_type": "code",
   "execution_count": null,
   "metadata": {},
   "outputs": [],
   "source": [
    "data_path = '/home/per202/data/Lithology'"
   ]
  },
  {
   "cell_type": "code",
   "execution_count": null,
   "metadata": {},
   "outputs": [],
   "source": [
    "aem_datadir = os.path.join(data_path, 'AEM')\n",
    "swan_datadir = os.path.join(data_path, 'swan_coastal')\n",
    "scp_datadir = os.path.join(aem_datadir, 'Swan_coastal_plains')\n",
    "scp_grids_datadir = os.path.join(scp_datadir, 'grids')\n",
    "ngis_datadir = os.path.join(data_path, 'NGIS')\n",
    "scp_shp_datadir = os.path.join(data_path, 'NGIS/swan_coastal')"
   ]
  },
  {
   "cell_type": "markdown",
   "metadata": {},
   "source": [
    "## DEM\n",
    "\n",
    "Let's have a look at the DEM provided as part of the AEM package"
   ]
  },
  {
   "cell_type": "code",
   "execution_count": null,
   "metadata": {},
   "outputs": [],
   "source": [
    "dem = rasterio.open(os.path.join(swan_datadir,'Swan_DEM/CLIP.tif'))"
   ]
  },
  {
   "cell_type": "code",
   "execution_count": null,
   "metadata": {},
   "outputs": [],
   "source": [
    "cnd_slice_dir = os.path.join(scp_grids_datadir,'cnd')\n",
    "\n",
    "cnd_000_005 = rasterio.open(os.path.join(cnd_slice_dir,'Swan_Coastal_Plain_CND_000m_to_005m_Final.ers'))"
   ]
  },
  {
   "cell_type": "code",
   "execution_count": null,
   "metadata": {},
   "outputs": [],
   "source": [
    "bore_locations_raw = gpd.read_file(os.path.join(scp_shp_datadir, 'scp.shp'))"
   ]
  },
  {
   "cell_type": "markdown",
   "metadata": {},
   "source": [
    "The DEM raster and the bore location shapefile do not use the same projection (coordinate reference system) so we reproject one of them. We choose the raster's UTM."
   ]
  },
  {
   "cell_type": "code",
   "execution_count": null,
   "metadata": {},
   "outputs": [],
   "source": [
    "bore_locations = bore_locations_raw.to_crs(dem.crs)"
   ]
  },
  {
   "cell_type": "code",
   "execution_count": null,
   "metadata": {},
   "outputs": [],
   "source": [
    "import aseg_gdf2"
   ]
  },
  {
   "cell_type": "code",
   "execution_count": null,
   "metadata": {},
   "outputs": [],
   "source": [
    "gdf = aseg_gdf2.read( os.path.join(scp_datadir, 'located_data/Swan_Coastal_Plain_Final_CND'))"
   ]
  },
  {
   "cell_type": "code",
   "execution_count": null,
   "metadata": {},
   "outputs": [],
   "source": [
    "gdf"
   ]
  },
  {
   "cell_type": "code",
   "execution_count": null,
   "metadata": {},
   "outputs": [],
   "source": [
    "gdf.field_names()"
   ]
  },
  {
   "cell_type": "code",
   "execution_count": null,
   "metadata": {},
   "outputs": [],
   "source": [
    "df = gdf.df()"
   ]
  },
  {
   "cell_type": "code",
   "execution_count": null,
   "metadata": {},
   "outputs": [],
   "source": [
    "df.head()"
   ]
  },
  {
   "cell_type": "markdown",
   "metadata": {},
   "source": [
    "# Viewer\n",
    "\n",
    "Derived from [voila-gpx-viewer](https://github.com/jtpio/voila-gpx-viewer)\n",
    "\n"
   ]
  },
  {
   "cell_type": "code",
   "execution_count": null,
   "metadata": {},
   "outputs": [],
   "source": [
    "# create the output widget to place the results\n",
    "out = Output()"
   ]
  },
  {
   "cell_type": "code",
   "execution_count": null,
   "metadata": {},
   "outputs": [],
   "source": [
    "def plot_map(points):\n",
    "    \"\"\"\n",
    "    Plot the GPS trace on a map\n",
    "    \"\"\"\n",
    "    mean_lat = mean(p.Latitude for p in points)\n",
    "    mean_lng = mean(p.Longitude for p in points)\n",
    "\n",
    "    # create the map\n",
    "    m = Map(center=(mean_lat, mean_lng), zoom=12, basemap=basemaps.Stamen.Terrain)\n",
    "\n",
    "    # show trace\n",
    "    line = Polyline(locations=[[[p.Latitude, p.Longitude] for p in points],],\n",
    "                    color = \"red\", fill=False)\n",
    "    m.add_layer(line)\n",
    "    m.add_control(FullScreenControl())\n",
    "    return m"
   ]
  },
  {
   "cell_type": "code",
   "execution_count": null,
   "metadata": {},
   "outputs": [],
   "source": [
    "ind = range(len(df))\n",
    "points = [df.iloc[i] for i in ind if (i % 10 == 0)]"
   ]
  },
  {
   "cell_type": "code",
   "execution_count": null,
   "metadata": {},
   "outputs": [],
   "source": [
    "len(points)"
   ]
  },
  {
   "cell_type": "code",
   "execution_count": null,
   "metadata": {},
   "outputs": [],
   "source": [
    "gdf.get_field_definition('Date'), gdf.get_field_definition('Time')"
   ]
  },
  {
   "cell_type": "code",
   "execution_count": null,
   "metadata": {},
   "outputs": [],
   "source": [
    "p = points[123]\n",
    "p.Date, p.Time"
   ]
  },
  {
   "cell_type": "code",
   "execution_count": null,
   "metadata": {},
   "outputs": [],
   "source": [
    "p = points[len(points) - 123]\n",
    "p.Date, p.Time"
   ]
  },
  {
   "cell_type": "code",
   "execution_count": null,
   "metadata": {},
   "outputs": [],
   "source": [
    "set(p.Date for p in points)"
   ]
  },
  {
   "cell_type": "code",
   "execution_count": null,
   "metadata": {},
   "outputs": [],
   "source": [
    "points = [p for p in points if (p.Date == 20130512.0)]"
   ]
  },
  {
   "cell_type": "code",
   "execution_count": null,
   "metadata": {},
   "outputs": [],
   "source": [
    "points = sorted(points, key=lambda p: p.Time) "
   ]
  },
  {
   "cell_type": "code",
   "execution_count": null,
   "metadata": {},
   "outputs": [],
   "source": [
    "def plot_elevation(gpx):\n",
    "    px = [p.Time for p in points]\n",
    "    py = [p.CND_011 for p in points]\n",
    "\n",
    "    x_scale, y_scale = LinearScale(), LogScale()\n",
    "    x_scale.allow_padding = False\n",
    "    x_ax = Axis(label='Time (s)', scale=x_scale)\n",
    "    y_ax = Axis(label='CND 011(?)', scale=y_scale, orientation='vertical')\n",
    "\n",
    "    lines = Lines(x=px, y=py, scales={'x': x_scale, 'y': y_scale})\n",
    "\n",
    "    elevation = Figure(title='CND 011 Chart', axes=[x_ax, y_ax], marks=[lines])\n",
    "    elevation.layout.width = 'auto'\n",
    "    elevation.layout.height = 'auto'\n",
    "    elevation.layout.min_height = '500px'\n",
    "\n",
    "    elevation.interaction = IndexSelector(scale=x_scale)\n",
    "\n",
    "    return elevation\n"
   ]
  },
  {
   "cell_type": "code",
   "execution_count": null,
   "metadata": {},
   "outputs": [],
   "source": [
    "def link_trace_elevation(trace, elevation, points):\n",
    "    \"\"\"\n",
    "    Link the trace the elevation graph.\n",
    "    Changing the selection on the elevation will update the\n",
    "    marker on the map\n",
    "    \"\"\"\n",
    "    times = np.asarray([p.Time for p in points])\n",
    "\n",
    "    def find_point(time):\n",
    "        \"\"\"\n",
    "        Find a point given the time\n",
    "        \"\"\"\n",
    "        dist_1 = abs(times - time)\n",
    "        pos = np.argmin(dist_1)\n",
    "        return points[pos]\n",
    "    \n",
    "    # add a checkbox to auto center\n",
    "    autocenter = Checkbox(value=False, description='Auto Center')\n",
    "    autocenter_control = WidgetControl(widget=autocenter, position='bottomright')\n",
    "    trace.add_control(autocenter_control)\n",
    "    # mark the current position on the map\n",
    "    start = points[0]\n",
    "    marker = CircleMarker(visible=False, location=(start.Latitude, start.Longitude),\n",
    "                          radius=10, color=\"green\", fill_color=\"green\")\n",
    "    trace.add_layer(marker)\n",
    "    brushintsel = elevation.interaction\n",
    "    def update_range(change):\n",
    "        \"\"\"\n",
    "        Update the position on the map when the elevation\n",
    "        graph selector changes\n",
    "        \"\"\"\n",
    "        if brushintsel.selected.shape != (1,):\n",
    "            return\n",
    "        marker.visible = True\n",
    "        selected = brushintsel.selected # time stamp in seconds for a day\n",
    "        point = find_point(selected)\n",
    "        marker.location = (point.Latitude, point.Longitude)\n",
    "        if autocenter.value:\n",
    "            trace.center = marker.location\n",
    "        #position = max(0, int((selected / distance_from_start) * len(points)))\n",
    "    brushintsel.observe(update_range, 'selected')\n"
   ]
  },
  {
   "cell_type": "code",
   "execution_count": null,
   "metadata": {},
   "outputs": [],
   "source": [
    "def plot_gpx(points):\n",
    "    trace = plot_map(points)\n",
    "    elevation = plot_elevation(points)\n",
    "    debug = Label(value='')\n",
    "    display(trace)\n",
    "    display(elevation)\n",
    "    display(debug)\n",
    "    link_trace_elevation(trace, elevation, points)"
   ]
  },
  {
   "cell_type": "code",
   "execution_count": null,
   "metadata": {},
   "outputs": [],
   "source": [
    "plot_gpx(points)"
   ]
  },
  {
   "cell_type": "code",
   "execution_count": null,
   "metadata": {},
   "outputs": [],
   "source": []
  }
 ],
 "metadata": {
  "kernelspec": {
   "display_name": "Py3 ELA",
   "language": "python",
   "name": "ela"
  },
  "language_info": {
   "codemirror_mode": {
    "name": "ipython",
    "version": 3
   },
   "file_extension": ".py",
   "mimetype": "text/x-python",
   "name": "python",
   "nbconvert_exporter": "python",
   "pygments_lexer": "ipython3",
   "version": "3.7.3"
  }
 },
 "nbformat": 4,
 "nbformat_minor": 4
}
